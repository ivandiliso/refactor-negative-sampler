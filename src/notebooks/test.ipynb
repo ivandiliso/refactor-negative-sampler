{
 "cells": [
  {
   "cell_type": "code",
   "execution_count": 5,
   "id": "453dc1e5",
   "metadata": {},
   "outputs": [
    {
     "data": {
      "text/plain": [
       "PosixPath('/Users/navis/dev/refactor_negative_sampler/relational_save.bin')"
      ]
     },
     "execution_count": 5,
     "metadata": {},
     "output_type": "execute_result"
    }
   ],
   "source": [
    "import pickle\n",
    "from pathlib import Path\n",
    "\n",
    "file = Path().cwd().parent.parent\n",
    "\n",
    "file = file / \"relational_save.bin\"\n",
    "\n",
    "file"
   ]
  },
  {
   "cell_type": "code",
   "execution_count": 7,
   "id": "616995de",
   "metadata": {},
   "outputs": [],
   "source": [
    "with open(file, \"rb\") as f:\n",
    "    subset = pickle.load(f)"
   ]
  },
  {
   "cell_type": "code",
   "execution_count": 8,
   "id": "07fc1f70",
   "metadata": {},
   "outputs": [
    {
     "data": {
      "text/plain": [
       "{0: {'head': {0: tensor([1]), 1: tensor([1])},\n",
       "  'tail': {0: tensor([], dtype=torch.int64), 1: tensor([1, 2, 3, 4])}},\n",
       " 1: {'head': {0: tensor([], dtype=torch.int64), 1: tensor([0])},\n",
       "  'tail': {0: tensor([0, 2, 3]), 1: tensor([0])}},\n",
       " 2: {'head': {0: tensor([1]), 1: tensor([0])},\n",
       "  'tail': {0: tensor([], dtype=torch.int64), 1: tensor([3, 4])}},\n",
       " 3: {'head': {0: tensor([1]), 1: tensor([0, 2])},\n",
       "  'tail': {0: tensor([], dtype=torch.int64),\n",
       "   1: tensor([], dtype=torch.int64)}},\n",
       " 4: {'head': {0: tensor([], dtype=torch.int64), 1: tensor([0, 2])},\n",
       "  'tail': {0: tensor([], dtype=torch.int64),\n",
       "   1: tensor([], dtype=torch.int64)}}}"
      ]
     },
     "execution_count": 8,
     "metadata": {},
     "output_type": "execute_result"
    }
   ],
   "source": [
    "subset"
   ]
  },
  {
   "cell_type": "code",
   "execution_count": 4,
   "id": "a4ddca84",
   "metadata": {},
   "outputs": [
    {
     "name": "stdout",
     "output_type": "stream",
     "text": [
      "0 0 50\n",
      "2 50 100\n"
     ]
    }
   ],
   "source": [
    "_corruption_indices = [0,2]\n",
    "\n",
    "for index, start in zip(_corruption_indices, range(0, 100, 50), strict=False):\n",
    "    stop = min(start + 50, 100)\n",
    "    print(index, start ,stop)\n",
    "    "
   ]
  },
  {
   "cell_type": "code",
   "execution_count": null,
   "id": "294f08f0",
   "metadata": {},
   "outputs": [],
   "source": []
  },
  {
   "cell_type": "code",
   "execution_count": null,
   "id": "419fc6e5",
   "metadata": {},
   "outputs": [],
   "source": []
  }
 ],
 "metadata": {
  "kernelspec": {
   "display_name": "pykeen-venv",
   "language": "python",
   "name": "python3"
  },
  "language_info": {
   "codemirror_mode": {
    "name": "ipython",
    "version": 3
   },
   "file_extension": ".py",
   "mimetype": "text/x-python",
   "name": "python",
   "nbconvert_exporter": "python",
   "pygments_lexer": "ipython3",
   "version": "3.12.8"
  }
 },
 "nbformat": 4,
 "nbformat_minor": 5
}
