{
 "cells": [
  {
   "cell_type": "code",
   "execution_count": null,
   "id": "453dc1e5",
   "metadata": {},
   "outputs": [
    {
     "data": {
      "text/plain": [
       "PosixPath('/Users/navis/dev/refactor_negative_sampler')"
      ]
     },
     "execution_count": 3,
     "metadata": {},
     "output_type": "execute_result"
    }
   ],
   "source": [
    "import pickle\n",
    "from pathlib import Path\n",
    "\n",
    "file = Path().cwd().parent.parent\n",
    "\n",
    "file / \"relational_save.bin\""
   ]
  },
  {
   "cell_type": "code",
   "execution_count": null,
   "id": "616995de",
   "metadata": {},
   "outputs": [],
   "source": [
    "with open()"
   ]
  }
 ],
 "metadata": {
  "kernelspec": {
   "display_name": "pykeen-venv",
   "language": "python",
   "name": "python3"
  },
  "language_info": {
   "codemirror_mode": {
    "name": "ipython",
    "version": 3
   },
   "file_extension": ".py",
   "mimetype": "text/x-python",
   "name": "python",
   "nbconvert_exporter": "python",
   "pygments_lexer": "ipython3",
   "version": "3.12.8"
  }
 },
 "nbformat": 4,
 "nbformat_minor": 5
}
